{
 "cells": [
  {
   "cell_type": "code",
   "execution_count": 35,
   "id": "b1321ccc-7643-4823-9534-f0357a773e18",
   "metadata": {},
   "outputs": [],
   "source": [
    "import pandas as pd\n",
    "import numpy as np"
   ]
  },
  {
   "cell_type": "code",
   "execution_count": 49,
   "id": "5a623b8f-d12d-4e3a-8869-cda457cbe72d",
   "metadata": {},
   "outputs": [],
   "source": [
    "# read the file from github and create a dataframe\n",
    "url = 'https://raw.githubusercontent.com/robertochiaiese/datawarehouse/refs/heads/main/dataset/ecdc-data/cases_deaths.csv'\n",
    "df = pd.read_csv(url)"
   ]
  },
  {
   "cell_type": "code",
   "execution_count": 50,
   "id": "deedfbf0-f6bc-4e8b-a99e-dacf9935e068",
   "metadata": {},
   "outputs": [
    {
     "name": "stdout",
     "output_type": "stream",
     "text": [
      "<class 'pandas.core.frame.DataFrame'>\n",
      "RangeIndex: 129270 entries, 0 to 129269\n",
      "Data columns (total 9 columns):\n",
      " #   Column        Non-Null Count   Dtype  \n",
      "---  ------        --------------   -----  \n",
      " 0   country       129270 non-null  object \n",
      " 1   country_code  125756 non-null  object \n",
      " 2   continent     129270 non-null  object \n",
      " 3   population    129270 non-null  int64  \n",
      " 4   indicator     129270 non-null  object \n",
      " 5   daily_count   129270 non-null  int64  \n",
      " 6   date          129270 non-null  object \n",
      " 7   rate_14_day   123628 non-null  float64\n",
      " 8   source        129270 non-null  object \n",
      "dtypes: float64(1), int64(2), object(6)\n",
      "memory usage: 8.9+ MB\n"
     ]
    }
   ],
   "source": [
    "df.info()"
   ]
  },
  {
   "cell_type": "code",
   "execution_count": 15,
   "id": "58c6306e-7803-4b63-8a06-0b12f62a563f",
   "metadata": {},
   "outputs": [],
   "source": []
  },
  {
   "cell_type": "code",
   "execution_count": 51,
   "id": "35023b04-eabd-4a18-9f59-cd380c5bd013",
   "metadata": {},
   "outputs": [],
   "source": [
    "# upload dimCountry and dimDate to create the fact table for the cases and the deaths\n",
    "dimCountry = pd.read_csv('/home/jovyan/datawarehouse/core_layer/to_get_ready/population_by_age.csv')\n",
    "dimDate = pd.read_csv('/home/jovyan/datawarehouse/lookup/dim_date.csv')"
   ]
  },
  {
   "cell_type": "code",
   "execution_count": 60,
   "id": "878e715d-3329-4f75-9013-7a0ee86840ee",
   "metadata": {},
   "outputs": [],
   "source": [
    "#merge both dimCountry and dimDate\n",
    "factCasesAndDeaths = pd.merge(df,dimCountry, left_on='country', right_on='country')\n",
    "factCasesAndDeaths = pd.merge(factCasesAndDeaths,dimDate, left_on='date', right_on='date')"
   ]
  },
  {
   "cell_type": "code",
   "execution_count": 64,
   "id": "f18ade9a-2dfd-465e-9a1a-9cf4281fd830",
   "metadata": {},
   "outputs": [],
   "source": [
    "# filter the fact table for the cases and the deaths selecting only EU countries and exclude the rows whose country_id are empty \n",
    "factCasesAndDeaths = factCasesAndDeaths[(factCasesAndDeaths['country_code_2_digit'].notnull()) & (factCasesAndDeaths['continent']=='Europe')]"
   ]
  },
  {
   "cell_type": "code",
   "execution_count": 67,
   "id": "5a333f6a-9ce0-44cb-818f-089aa1730a27",
   "metadata": {},
   "outputs": [
    {
     "data": {
      "text/html": [
       "<div>\n",
       "<style scoped>\n",
       "    .dataframe tbody tr th:only-of-type {\n",
       "        vertical-align: middle;\n",
       "    }\n",
       "\n",
       "    .dataframe tbody tr th {\n",
       "        vertical-align: top;\n",
       "    }\n",
       "\n",
       "    .dataframe thead th {\n",
       "        text-align: right;\n",
       "    }\n",
       "</style>\n",
       "<table border=\"1\" class=\"dataframe\">\n",
       "  <thead>\n",
       "    <tr style=\"text-align: right;\">\n",
       "      <th></th>\n",
       "      <th>country</th>\n",
       "      <th>country_code</th>\n",
       "      <th>continent</th>\n",
       "      <th>population_x</th>\n",
       "      <th>indicator</th>\n",
       "      <th>daily_count</th>\n",
       "      <th>date</th>\n",
       "      <th>rate_14_day</th>\n",
       "      <th>source</th>\n",
       "      <th>Unnamed: 0</th>\n",
       "      <th>...</th>\n",
       "      <th>year</th>\n",
       "      <th>month</th>\n",
       "      <th>day</th>\n",
       "      <th>day_name</th>\n",
       "      <th>day_of_year</th>\n",
       "      <th>week_of_month</th>\n",
       "      <th>week_of_year</th>\n",
       "      <th>month_name</th>\n",
       "      <th>year_month</th>\n",
       "      <th>year_week</th>\n",
       "    </tr>\n",
       "  </thead>\n",
       "  <tbody>\n",
       "    <tr>\n",
       "      <th>0</th>\n",
       "      <td>Albania</td>\n",
       "      <td>ALB</td>\n",
       "      <td>Europe</td>\n",
       "      <td>2862427</td>\n",
       "      <td>confirmed cases</td>\n",
       "      <td>0</td>\n",
       "      <td>2020-01-02</td>\n",
       "      <td>NaN</td>\n",
       "      <td>Epidemic intelligence, national daily data</td>\n",
       "      <td>0</td>\n",
       "      <td>...</td>\n",
       "      <td>2020</td>\n",
       "      <td>1</td>\n",
       "      <td>2</td>\n",
       "      <td>Thursday</td>\n",
       "      <td>2</td>\n",
       "      <td>1</td>\n",
       "      <td>1</td>\n",
       "      <td>January</td>\n",
       "      <td>202001</td>\n",
       "      <td>202001</td>\n",
       "    </tr>\n",
       "  </tbody>\n",
       "</table>\n",
       "<p>1 rows × 30 columns</p>\n",
       "</div>"
      ],
      "text/plain": [
       "   country country_code continent  population_x        indicator  daily_count  \\\n",
       "0  Albania          ALB    Europe       2862427  confirmed cases            0   \n",
       "\n",
       "         date  rate_14_day                                      source  \\\n",
       "0  2020-01-02          NaN  Epidemic intelligence, national daily data   \n",
       "\n",
       "   Unnamed: 0  ...  year month  day  day_name  day_of_year  week_of_month  \\\n",
       "0           0  ...  2020     1    2  Thursday            2              1   \n",
       "\n",
       "   week_of_year  month_name  year_month  year_week  \n",
       "0             1     January      202001     202001  \n",
       "\n",
       "[1 rows x 30 columns]"
      ]
     },
     "execution_count": 67,
     "metadata": {},
     "output_type": "execute_result"
    }
   ],
   "source": [
    "factCasesAndDeaths.head(1)"
   ]
  },
  {
   "cell_type": "code",
   "execution_count": 73,
   "id": "a6a4d98c-960f-4082-87fe-8d16f5ab0cce",
   "metadata": {},
   "outputs": [],
   "source": [
    "# rename the columns\n",
    "factCasesAndDeaths = factCasesAndDeaths[['country_code_2_digit','date_key','daily_count','source']].rename(columns={'country_code_2_digit':'country_id','date_key':'date_id','daily_cound':'confirmed_cases'})\n"
   ]
  },
  {
   "cell_type": "code",
   "execution_count": 78,
   "id": "10da632f-e821-47c3-a302-49a1ca228f95",
   "metadata": {},
   "outputs": [],
   "source": [
    "# create an index\n",
    "factCasesAndDeaths = factCasesAndDeaths.reset_index().rename(columns={'index':'cases_deaths_id'})\n"
   ]
  },
  {
   "cell_type": "code",
   "execution_count": 79,
   "id": "d7179226-fc75-4a14-9258-9576c8eff879",
   "metadata": {},
   "outputs": [
    {
     "data": {
      "text/html": [
       "<div>\n",
       "<style scoped>\n",
       "    .dataframe tbody tr th:only-of-type {\n",
       "        vertical-align: middle;\n",
       "    }\n",
       "\n",
       "    .dataframe tbody tr th {\n",
       "        vertical-align: top;\n",
       "    }\n",
       "\n",
       "    .dataframe thead th {\n",
       "        text-align: right;\n",
       "    }\n",
       "</style>\n",
       "<table border=\"1\" class=\"dataframe\">\n",
       "  <thead>\n",
       "    <tr style=\"text-align: right;\">\n",
       "      <th></th>\n",
       "      <th>cases_deaths_id</th>\n",
       "      <th>country_id</th>\n",
       "      <th>date_id</th>\n",
       "      <th>confirmed_cases</th>\n",
       "      <th>source</th>\n",
       "    </tr>\n",
       "  </thead>\n",
       "  <tbody>\n",
       "    <tr>\n",
       "      <th>0</th>\n",
       "      <td>0</td>\n",
       "      <td>AL</td>\n",
       "      <td>20200102</td>\n",
       "      <td>0</td>\n",
       "      <td>Epidemic intelligence, national daily data</td>\n",
       "    </tr>\n",
       "    <tr>\n",
       "      <th>1</th>\n",
       "      <td>1</td>\n",
       "      <td>AL</td>\n",
       "      <td>20200102</td>\n",
       "      <td>0</td>\n",
       "      <td>Epidemic intelligence, national daily data</td>\n",
       "    </tr>\n",
       "    <tr>\n",
       "      <th>2</th>\n",
       "      <td>2</td>\n",
       "      <td>AD</td>\n",
       "      <td>20200102</td>\n",
       "      <td>0</td>\n",
       "      <td>Epidemic intelligence, national daily data</td>\n",
       "    </tr>\n",
       "    <tr>\n",
       "      <th>3</th>\n",
       "      <td>3</td>\n",
       "      <td>AD</td>\n",
       "      <td>20200102</td>\n",
       "      <td>0</td>\n",
       "      <td>Epidemic intelligence, national daily data</td>\n",
       "    </tr>\n",
       "    <tr>\n",
       "      <th>4</th>\n",
       "      <td>4</td>\n",
       "      <td>AM</td>\n",
       "      <td>20200102</td>\n",
       "      <td>0</td>\n",
       "      <td>Epidemic intelligence, national daily data</td>\n",
       "    </tr>\n",
       "    <tr>\n",
       "      <th>...</th>\n",
       "      <td>...</td>\n",
       "      <td>...</td>\n",
       "      <td>...</td>\n",
       "      <td>...</td>\n",
       "      <td>...</td>\n",
       "    </tr>\n",
       "    <tr>\n",
       "      <th>27411</th>\n",
       "      <td>27411</td>\n",
       "      <td>TR</td>\n",
       "      <td>20201025</td>\n",
       "      <td>69</td>\n",
       "      <td>Epidemic intelligence, national daily data</td>\n",
       "    </tr>\n",
       "    <tr>\n",
       "      <th>27412</th>\n",
       "      <td>27412</td>\n",
       "      <td>UA</td>\n",
       "      <td>20201025</td>\n",
       "      <td>7014</td>\n",
       "      <td>Epidemic intelligence, national daily data</td>\n",
       "    </tr>\n",
       "    <tr>\n",
       "      <th>27413</th>\n",
       "      <td>27413</td>\n",
       "      <td>UA</td>\n",
       "      <td>20201025</td>\n",
       "      <td>125</td>\n",
       "      <td>Epidemic intelligence, national daily data</td>\n",
       "    </tr>\n",
       "    <tr>\n",
       "      <th>27414</th>\n",
       "      <td>27414</td>\n",
       "      <td>UK</td>\n",
       "      <td>20201025</td>\n",
       "      <td>23012</td>\n",
       "      <td>Epidemic intelligence, national daily data</td>\n",
       "    </tr>\n",
       "    <tr>\n",
       "      <th>27415</th>\n",
       "      <td>27415</td>\n",
       "      <td>UK</td>\n",
       "      <td>20201025</td>\n",
       "      <td>174</td>\n",
       "      <td>Epidemic intelligence, national daily data</td>\n",
       "    </tr>\n",
       "  </tbody>\n",
       "</table>\n",
       "<p>27416 rows × 5 columns</p>\n",
       "</div>"
      ],
      "text/plain": [
       "       cases_deaths_id country_id   date_id  confirmed_cases  \\\n",
       "0                    0         AL  20200102                0   \n",
       "1                    1         AL  20200102                0   \n",
       "2                    2         AD  20200102                0   \n",
       "3                    3         AD  20200102                0   \n",
       "4                    4         AM  20200102                0   \n",
       "...                ...        ...       ...              ...   \n",
       "27411            27411         TR  20201025               69   \n",
       "27412            27412         UA  20201025             7014   \n",
       "27413            27413         UA  20201025              125   \n",
       "27414            27414         UK  20201025            23012   \n",
       "27415            27415         UK  20201025              174   \n",
       "\n",
       "                                           source  \n",
       "0      Epidemic intelligence, national daily data  \n",
       "1      Epidemic intelligence, national daily data  \n",
       "2      Epidemic intelligence, national daily data  \n",
       "3      Epidemic intelligence, national daily data  \n",
       "4      Epidemic intelligence, national daily data  \n",
       "...                                           ...  \n",
       "27411  Epidemic intelligence, national daily data  \n",
       "27412  Epidemic intelligence, national daily data  \n",
       "27413  Epidemic intelligence, national daily data  \n",
       "27414  Epidemic intelligence, national daily data  \n",
       "27415  Epidemic intelligence, national daily data  \n",
       "\n",
       "[27416 rows x 5 columns]"
      ]
     },
     "execution_count": 79,
     "metadata": {},
     "output_type": "execute_result"
    }
   ],
   "source": [
    "factCasesAndDeaths"
   ]
  },
  {
   "cell_type": "code",
   "execution_count": null,
   "id": "82888d71-2431-4d9d-a9fa-b10ec03ff19d",
   "metadata": {},
   "outputs": [],
   "source": [
    "factCasesAndDeathsto_csv('/home/jovyan/datawarehouse/core_layer/processed/factCasesAndDeaths.csv', index=False)"
   ]
  }
 ],
 "metadata": {
  "kernelspec": {
   "display_name": "Python 3 (ipykernel)",
   "language": "python",
   "name": "python3"
  },
  "language_info": {
   "codemirror_mode": {
    "name": "ipython",
    "version": 3
   },
   "file_extension": ".py",
   "mimetype": "text/x-python",
   "name": "python",
   "nbconvert_exporter": "python",
   "pygments_lexer": "ipython3",
   "version": "3.11.6"
  }
 },
 "nbformat": 4,
 "nbformat_minor": 5
}
